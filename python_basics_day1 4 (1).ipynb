{
  "nbformat": 4,
  "nbformat_minor": 0,
  "metadata": {
    "colab": {
      "provenance": []
    },
    "kernelspec": {
      "name": "python3",
      "display_name": "Python 3"
    },
    "language_info": {
      "name": "python"
    }
  },
  "cells": [
    {
      "cell_type": "code",
      "execution_count": 9,
      "metadata": {
        "colab": {
          "base_uri": "https://localhost:8080/"
        },
        "id": "fooBKl8FmcO4",
        "outputId": "4251f7fe-e150-4620-f61c-0777e1d11226"
      },
      "outputs": [
        {
          "output_type": "stream",
          "name": "stdout",
          "text": [
            "welcome to Python world\n"
          ]
        }
      ],
      "source": [
        "print(\"welcome to Python world\")"
      ]
    },
    {
      "cell_type": "code",
      "source": [
        "name = str(12345)\n",
        "reverseString = name[::-1]\n",
        "print(reverseString)"
      ],
      "metadata": {
        "id": "XGEY-oD4utm0",
        "outputId": "0a4280c9-019d-4f3c-e8f0-c6f8e8d26cc7",
        "colab": {
          "base_uri": "https://localhost:8080/"
        }
      },
      "execution_count": 10,
      "outputs": [
        {
          "output_type": "stream",
          "name": "stdout",
          "text": [
            "54321\n"
          ]
        }
      ]
    },
    {
      "cell_type": "code",
      "source": [
        "#dynamic programming\n",
        "\n",
        "a=10\n",
        "print(a)\n",
        "print(id(a))\n",
        "\n",
        "a=3.14\n",
        "print(a)\n",
        "print(id(a))"
      ],
      "metadata": {
        "id": "7mQa0pLtx_2f",
        "outputId": "e0e0089a-3845-4d42-9c21-6d2c1b9fc1b4",
        "colab": {
          "base_uri": "https://localhost:8080/"
        }
      },
      "execution_count": 18,
      "outputs": [
        {
          "output_type": "stream",
          "name": "stdout",
          "text": [
            "10\n",
            "10751144\n",
            "3.14\n",
            "133729443515088\n"
          ]
        }
      ]
    },
    {
      "cell_type": "code",
      "source": [
        "\n",
        "# create multiple variable\n",
        "a,b,c = 10,20,\"ntt\"\n",
        "\n",
        "print (a,b,c)"
      ],
      "metadata": {
        "id": "iE5I0qzL0nJz",
        "outputId": "e484ea40-8079-43af-efb4-880d6c842487",
        "colab": {
          "base_uri": "https://localhost:8080/"
        }
      },
      "execution_count": 19,
      "outputs": [
        {
          "output_type": "stream",
          "name": "stdout",
          "text": [
            "10 20 ntt\n"
          ]
        }
      ]
    },
    {
      "cell_type": "code",
      "source": [
        "# assign single values to multiple variable\n",
        "a=b=c=10\n",
        "\n",
        "print(a,b,c)"
      ],
      "metadata": {
        "id": "X1OJHP1Z07aT",
        "outputId": "3cbba96c-4088-4ffd-e42c-be083c7526d3",
        "colab": {
          "base_uri": "https://localhost:8080/"
        }
      },
      "execution_count": 20,
      "outputs": [
        {
          "output_type": "stream",
          "name": "stdout",
          "text": [
            "10 10 10\n"
          ]
        }
      ]
    },
    {
      "cell_type": "code",
      "source": [
        "# variable annotation\n",
        "a:int=10\n",
        "\n",
        "print(a)\n",
        "print(id(a))\n",
        "print(__annotations__['a'])\n",
        "\n",
        "b:float = 3.14\n",
        "\n",
        "print(b)\n",
        "print(id(b))\n",
        "print(__annotations__['b'])\n",
        "\n",
        "c:str = \"ntt\"\n",
        "print(c)\n",
        "print(id(c))\n",
        "print(__annotations__['c'])"
      ],
      "metadata": {
        "id": "Ko-kx6Jh1Vbj",
        "outputId": "4380b675-29bf-4744-f166-57e473ab7aa0",
        "colab": {
          "base_uri": "https://localhost:8080/"
        }
      },
      "execution_count": 30,
      "outputs": [
        {
          "output_type": "stream",
          "name": "stdout",
          "text": [
            "10\n",
            "10751144\n",
            "<class 'int'>\n",
            "3.14\n",
            "133729441443152\n",
            "<class 'float'>\n",
            "ntt\n",
            "133729249892592\n",
            "<class 'str'>\n"
          ]
        }
      ]
    },
    {
      "cell_type": "code",
      "source": [
        "# show all keyword list\n",
        "\n",
        "import keyword\n",
        "\n",
        "print(keyword.kwlist)\n",
        "print(len(keyword.kwlist))"
      ],
      "metadata": {
        "id": "4GO4Hhgx25R1",
        "outputId": "9508ebbf-9ee9-489b-91a4-a60f3532078f",
        "colab": {
          "base_uri": "https://localhost:8080/"
        }
      },
      "execution_count": 32,
      "outputs": [
        {
          "output_type": "stream",
          "name": "stdout",
          "text": [
            "['False', 'None', 'True', 'and', 'as', 'assert', 'async', 'await', 'break', 'class', 'continue', 'def', 'del', 'elif', 'else', 'except', 'finally', 'for', 'from', 'global', 'if', 'import', 'in', 'is', 'lambda', 'nonlocal', 'not', 'or', 'pass', 'raise', 'return', 'try', 'while', 'with', 'yield']\n",
            "35\n"
          ]
        }
      ]
    },
    {
      "cell_type": "code",
      "source": [
        "\"\"\" multi line command\n",
        "kjgfkj\n",
        "kmfndgklfdjg\n",
        "mfngfkgnj  \"\"\"\n",
        "\n",
        "print(\"multiline command\")"
      ],
      "metadata": {
        "id": "Nf3slBg534Kr",
        "outputId": "f99d2c01-1efb-4514-d34a-d367dce8fad0",
        "colab": {
          "base_uri": "https://localhost:8080/"
        }
      },
      "execution_count": 34,
      "outputs": [
        {
          "output_type": "stream",
          "name": "stdout",
          "text": [
            "multiline command\n"
          ]
        }
      ]
    },
    {
      "cell_type": "code",
      "source": [
        "\"\"\"\n",
        "\n",
        "numeric type ; int,float,complex\n",
        "sequence type - str,list,tuple\n",
        "mapping type - dict\n",
        "set type - set,frozenset\n",
        "boolean type - bool\n",
        "binary type - bytes,bytearray,memoryview\n",
        "\n",
        "\"\"\"\n",
        "\n"
      ],
      "metadata": {
        "id": "YQk-yxtt4YFE"
      },
      "execution_count": null,
      "outputs": []
    }
  ]
}