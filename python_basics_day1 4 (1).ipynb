{
  "nbformat": 4,
  "nbformat_minor": 0,
  "metadata": {
    "colab": {
      "provenance": []
    },
    "kernelspec": {
      "name": "python3",
      "display_name": "Python 3"
    },
    "language_info": {
      "name": "python"
    }
  },
  "cells": [
    {
      "cell_type": "code",
      "execution_count": null,
      "metadata": {
        "colab": {
          "base_uri": "https://localhost:8080/"
        },
        "id": "fooBKl8FmcO4",
        "outputId": "4251f7fe-e150-4620-f61c-0777e1d11226"
      },
      "outputs": [
        {
          "output_type": "stream",
          "name": "stdout",
          "text": [
            "welcome to Python world\n"
          ]
        }
      ],
      "source": [
        "print(\"welcome to Python world\")"
      ]
    },
    {
      "cell_type": "code",
      "source": [
        "name = str(12345)\n",
        "reverseString = name[::-1]\n",
        "print(reverseString)"
      ],
      "metadata": {
        "colab": {
          "base_uri": "https://localhost:8080/"
        },
        "id": "XGEY-oD4utm0",
        "outputId": "0a4280c9-019d-4f3c-e8f0-c6f8e8d26cc7"
      },
      "execution_count": null,
      "outputs": [
        {
          "output_type": "stream",
          "name": "stdout",
          "text": [
            "54321\n"
          ]
        }
      ]
    },
    {
      "cell_type": "code",
      "source": [
        "#dynamic programming\n",
        "\n",
        "a=10\n",
        "print(a)\n",
        "print(id(a))\n",
        "\n",
        "a=3.14\n",
        "print(a)\n",
        "print(id(a))"
      ],
      "metadata": {
        "colab": {
          "base_uri": "https://localhost:8080/"
        },
        "id": "7mQa0pLtx_2f",
        "outputId": "e0e0089a-3845-4d42-9c21-6d2c1b9fc1b4"
      },
      "execution_count": null,
      "outputs": [
        {
          "output_type": "stream",
          "name": "stdout",
          "text": [
            "10\n",
            "10751144\n",
            "3.14\n",
            "133729443515088\n"
          ]
        }
      ]
    },
    {
      "cell_type": "code",
      "source": [
        "\n",
        "# create multiple variable\n",
        "a,b,c = 10,20,\"ntt\"\n",
        "\n",
        "print (a,b,c)"
      ],
      "metadata": {
        "colab": {
          "base_uri": "https://localhost:8080/"
        },
        "id": "iE5I0qzL0nJz",
        "outputId": "e484ea40-8079-43af-efb4-880d6c842487"
      },
      "execution_count": null,
      "outputs": [
        {
          "output_type": "stream",
          "name": "stdout",
          "text": [
            "10 20 ntt\n"
          ]
        }
      ]
    },
    {
      "cell_type": "code",
      "source": [
        "# assign single values to multiple variable\n",
        "a=b=c=10\n",
        "\n",
        "print(a,b,c)"
      ],
      "metadata": {
        "colab": {
          "base_uri": "https://localhost:8080/"
        },
        "id": "X1OJHP1Z07aT",
        "outputId": "3cbba96c-4088-4ffd-e42c-be083c7526d3"
      },
      "execution_count": null,
      "outputs": [
        {
          "output_type": "stream",
          "name": "stdout",
          "text": [
            "10 10 10\n"
          ]
        }
      ]
    },
    {
      "cell_type": "code",
      "source": [
        "# variable annotation\n",
        "a:int=10\n",
        "\n",
        "print(a)\n",
        "print(id(a))\n",
        "print(__annotations__['a'])\n",
        "\n",
        "b:float = 3.14\n",
        "\n",
        "print(b)\n",
        "print(id(b))\n",
        "print(__annotations__['b'])\n",
        "\n",
        "c:str = \"ntt\"\n",
        "print(c)\n",
        "print(id(c))\n",
        "print(__annotations__['c'])"
      ],
      "metadata": {
        "colab": {
          "base_uri": "https://localhost:8080/"
        },
        "id": "Ko-kx6Jh1Vbj",
        "outputId": "4380b675-29bf-4744-f166-57e473ab7aa0"
      },
      "execution_count": null,
      "outputs": [
        {
          "output_type": "stream",
          "name": "stdout",
          "text": [
            "10\n",
            "10751144\n",
            "<class 'int'>\n",
            "3.14\n",
            "133729441443152\n",
            "<class 'float'>\n",
            "ntt\n",
            "133729249892592\n",
            "<class 'str'>\n"
          ]
        }
      ]
    },
    {
      "cell_type": "code",
      "source": [
        "# show all keyword list\n",
        "\n",
        "import keyword\n",
        "\n",
        "print(keyword.kwlist)\n",
        "print(len(keyword.kwlist))"
      ],
      "metadata": {
        "colab": {
          "base_uri": "https://localhost:8080/"
        },
        "id": "4GO4Hhgx25R1",
        "outputId": "9508ebbf-9ee9-489b-91a4-a60f3532078f"
      },
      "execution_count": null,
      "outputs": [
        {
          "output_type": "stream",
          "name": "stdout",
          "text": [
            "['False', 'None', 'True', 'and', 'as', 'assert', 'async', 'await', 'break', 'class', 'continue', 'def', 'del', 'elif', 'else', 'except', 'finally', 'for', 'from', 'global', 'if', 'import', 'in', 'is', 'lambda', 'nonlocal', 'not', 'or', 'pass', 'raise', 'return', 'try', 'while', 'with', 'yield']\n",
            "35\n"
          ]
        }
      ]
    },
    {
      "cell_type": "code",
      "source": [
        "\"\"\" multi line command\n",
        "kjgfkj\n",
        "kmfndgklfdjg\n",
        "mfngfkgnj  \"\"\"\n",
        "\n",
        "print(\"multiline command\")"
      ],
      "metadata": {
        "colab": {
          "base_uri": "https://localhost:8080/"
        },
        "id": "Nf3slBg534Kr",
        "outputId": "f99d2c01-1efb-4514-d34a-d367dce8fad0"
      },
      "execution_count": null,
      "outputs": [
        {
          "output_type": "stream",
          "name": "stdout",
          "text": [
            "multiline command\n"
          ]
        }
      ]
    },
    {
      "cell_type": "code",
      "source": [
        "\"\"\"\n",
        "\n",
        "numeric type ; int,float,complex\n",
        "sequence type - str,list,tuple\n",
        "mapping type - dict\n",
        "set type - set,frozenset\n",
        "boolean type - bool\n",
        "binary type - bytes,bytearray,memoryview\n",
        "\n",
        "\"\"\"\n",
        "\n"
      ],
      "metadata": {
        "id": "YQk-yxtt4YFE"
      },
      "execution_count": null,
      "outputs": []
    },
    {
      "cell_type": "code",
      "source": [
        "\"\"\"python doesnt have array datatype\n",
        "due tokenize\n",
        "insert Operation\n",
        "delete Operation\n",
        "storage operation\n",
        "instead of that we use str,list,tuple\"\"\""
      ],
      "metadata": {
        "id": "gzNQEGaM8Uec"
      },
      "execution_count": null,
      "outputs": []
    },
    {
      "cell_type": "code",
      "source": [
        "#String....Python has positive indexing and negative indexing\n",
        "\n",
        "a =\"NTT DATA\"\n",
        "\n",
        "print(a[-8])\n",
        "print(a[0])"
      ],
      "metadata": {
        "colab": {
          "base_uri": "https://localhost:8080/"
        },
        "id": "5CjIul079Zwb",
        "outputId": "01f6681c-d005-4cf9-dee7-bf341c17db3f"
      },
      "execution_count": null,
      "outputs": [
        {
          "output_type": "stream",
          "name": "stdout",
          "text": [
            "N\n",
            "N\n"
          ]
        }
      ]
    },
    {
      "cell_type": "code",
      "source": [
        "\"\"\" Accessing substring in string\n",
        "\n",
        "two ways:\n",
        "  1) indexing\n",
        "  2) slicing  -- slicing operator [:]\n",
        "       syntax\n",
        "           var_name[start:stop:step]   (stop-step)\n",
        "\"\"\"\n",
        "\n",
        "s = \"Texas\"\n",
        "print(s[0:5:2])\n",
        "\n",
        "Text = \"code yug\"\n",
        "print(Text[0:3:1])\n",
        "\n",
        "print(Text[0:7:2])\n",
        "#           7-1  2-1\n",
        "print(Text[0::1])  #default start and step value is zero\n",
        "\n",
        "print(Text[::])  # default step value is 1\n",
        "\n",
        "print(Text[0:4:1])  # step parameter can not be zero\n",
        "print(Text[0:0:1])  # does not print"
      ],
      "metadata": {
        "colab": {
          "base_uri": "https://localhost:8080/"
        },
        "id": "fEUAr_qiBcX2",
        "outputId": "61fc4f82-508b-4cfb-e30b-4e4bd3683db4"
      },
      "execution_count": null,
      "outputs": [
        {
          "output_type": "stream",
          "name": "stdout",
          "text": [
            "Txs\n",
            "cod\n",
            "cd u\n",
            "code yug\n",
            "code yug\n",
            "code\n",
            "\n"
          ]
        }
      ]
    },
    {
      "cell_type": "code",
      "source": [
        "# negative slicing\n",
        "\n",
        "city = \"banglore\"\n",
        "\n",
        "print(city[-1:-4:-1])  #s[-1:-4+3 : -1+1]\n",
        "print(city[-1:-5:-2])\n",
        "print(city[-2:-6:2])  #print nothing\n",
        "# third step parameter decide it is positive or negative slicing\n",
        "print(city[-1::-1])\n"
      ],
      "metadata": {
        "colab": {
          "base_uri": "https://localhost:8080/"
        },
        "id": "OjYjH2pBIPMq",
        "outputId": "e3340aaf-4d85-4776-ea42-d2dbf93e968f"
      },
      "execution_count": null,
      "outputs": [
        {
          "output_type": "stream",
          "name": "stdout",
          "text": [
            "ero\n",
            "eo\n",
            "\n",
            "erolgnab\n"
          ]
        }
      ]
    },
    {
      "cell_type": "code",
      "source": [
        "string= 'python is fun'\n",
        "print(string[0:6:2])\n",
        "print(string[4])\n",
        "print(string[::])\n",
        "print(string[:5:])\n",
        "print(string[::3])\n",
        "print(string[-1:-7:-2]) #ufs\n",
        "print(string[-2:-6:2]) #"
      ],
      "metadata": {
        "colab": {
          "base_uri": "https://localhost:8080/"
        },
        "id": "JTWEc8LKeCsS",
        "outputId": "b213a2da-2194-45c7-c6fd-952b6adb7b89"
      },
      "execution_count": null,
      "outputs": [
        {
          "output_type": "stream",
          "name": "stdout",
          "text": [
            "pto\n",
            "o\n",
            "python is fun\n",
            "pytho\n",
            "ph  n\n",
            "nfs\n",
            "\n"
          ]
        }
      ]
    },
    {
      "cell_type": "code",
      "source": [
        "#            IF STATEMENT  inside it we can use while and for loop"
      ],
      "metadata": {
        "id": "VQyAP0Bgh--w"
      },
      "execution_count": null,
      "outputs": []
    },
    {
      "cell_type": "code",
      "source": [
        "if 4>2:\n",
        " print('true')\n",
        "elif 3==3:\n",
        "  print('good')\n",
        "else:\n",
        " print('nice')\n",
        "print('nice')"
      ],
      "metadata": {
        "colab": {
          "base_uri": "https://localhost:8080/"
        },
        "id": "h4DlKR8ylBtZ",
        "outputId": "1adb22d7-07e5-49a9-d7e3-ed72a4b0d6ed"
      },
      "execution_count": null,
      "outputs": [
        {
          "output_type": "stream",
          "name": "stdout",
          "text": [
            "true\n",
            "nice\n"
          ]
        }
      ]
    },
    {
      "cell_type": "code",
      "source": [
        "a = input('Enter a number : ')\n",
        "\n",
        "if (int(a)>10):\n",
        "  print('Number is greater than 10')\n",
        "elif (int(a)<10):\n",
        "  print('number is less than 10')\n",
        "elif(int(a)==10):\n",
        "  print('number is equal to 10')\n",
        "else:\n",
        "  print('Invalid input')"
      ],
      "metadata": {
        "id": "8XVTub8lod0y",
        "outputId": "f2de1796-c354-4ab7-e6e5-e2a0b54778e1",
        "colab": {
          "base_uri": "https://localhost:8080/"
        }
      },
      "execution_count": null,
      "outputs": [
        {
          "output_type": "stream",
          "name": "stdout",
          "text": [
            "Enter a number : 1076\n",
            "Number is greater than 10\n"
          ]
        }
      ]
    },
    {
      "cell_type": "code",
      "source": [
        "a = input('Enter your marks : ')\n",
        "\n",
        "if (int(a)>35):\n",
        "  print('you pass the exam')\n",
        "else :\n",
        "  print('you fail the exam')\n"
      ],
      "metadata": {
        "id": "B347Drk5tQon",
        "outputId": "0598d31e-7c07-4d98-f3b1-56d05d841b36",
        "colab": {
          "base_uri": "https://localhost:8080/"
        }
      },
      "execution_count": null,
      "outputs": [
        {
          "output_type": "stream",
          "name": "stdout",
          "text": [
            "Enter your marks : 44\n",
            "you pass the exam\n"
          ]
        }
      ]
    },
    {
      "cell_type": "code",
      "source": [
        "a = int(input('Enter your marks : '))\n",
        "\n",
        "if (a%2==0):\n",
        "  print('Even number')\n",
        "else :\n",
        "  print('odd number')"
      ],
      "metadata": {
        "id": "41wR4eoDtrTE",
        "outputId": "20bf6774-e13d-4258-92a1-2261ed55531a",
        "colab": {
          "base_uri": "https://localhost:8080/"
        }
      },
      "execution_count": null,
      "outputs": [
        {
          "output_type": "stream",
          "name": "stdout",
          "text": [
            "Enter your marks : 4\n",
            "Even number\n"
          ]
        }
      ]
    },
    {
      "cell_type": "code",
      "source": [
        "# NESTED IF\n",
        "\n",
        "num = int(input('ENter a number :'))\n",
        "\n",
        "if num > 0:\n",
        "  print('Number is a positive number')\n",
        "  if num % 2 == 0 :\n",
        "    print('Number is even')\n",
        "  else:\n",
        "    print('Number is odd')\n",
        "else:\n",
        "  print('Negative number')"
      ],
      "metadata": {
        "id": "C-sbSHaTuMyM",
        "outputId": "ad572f8a-962b-4079-893b-9f382b467e56",
        "colab": {
          "base_uri": "https://localhost:8080/"
        }
      },
      "execution_count": null,
      "outputs": [
        {
          "output_type": "stream",
          "name": "stdout",
          "text": [
            "ENter a number :11\n",
            "Number is a positive number\n",
            "Number is odd\n"
          ]
        }
      ]
    },
    {
      "cell_type": "code",
      "source": [
        "# While loop\n",
        "\n",
        "i=1\n",
        "while i<5 :\n",
        "\n",
        "  print(i)\n",
        "  i=i+1\n"
      ],
      "metadata": {
        "colab": {
          "base_uri": "https://localhost:8080/"
        },
        "id": "GmirXZe9xcE-",
        "outputId": "09150bda-04e1-4560-ac03-2e20bd6c5054"
      },
      "execution_count": null,
      "outputs": [
        {
          "output_type": "stream",
          "name": "stdout",
          "text": [
            "1\n",
            "2\n",
            "3\n",
            "4\n"
          ]
        }
      ]
    },
    {
      "cell_type": "code",
      "source": [
        "# For LOOP\n",
        "\n",
        "\n",
        "for i in 'NTTDATA':\n",
        " print(i)\n",
        "\n",
        "\n"
      ],
      "metadata": {
        "colab": {
          "base_uri": "https://localhost:8080/"
        },
        "id": "ZdmtCf1Axzb5",
        "outputId": "1dda982e-eb0e-4c06-9ee0-b38765a189f0"
      },
      "execution_count": null,
      "outputs": [
        {
          "output_type": "stream",
          "name": "stdout",
          "text": [
            "N\n",
            "T\n",
            "T\n",
            "D\n",
            "A\n",
            "T\n",
            "A\n"
          ]
        }
      ]
    },
    {
      "cell_type": "code",
      "source": [
        "# NESTED LOOP\n",
        "\n",
        "for i in 'Blr':\n",
        " print(\"outerloop\")\n",
        " for j in [10,20,30]:\n",
        "  print(\"inner loop\")\n",
        "  print(i,j)\n"
      ],
      "metadata": {
        "colab": {
          "base_uri": "https://localhost:8080/"
        },
        "id": "oD-8I2g8ymtf",
        "outputId": "5192685e-b5a8-4bc7-ecd3-cabfd43e17fb"
      },
      "execution_count": null,
      "outputs": [
        {
          "output_type": "stream",
          "name": "stdout",
          "text": [
            "outerloop\n",
            "inner loop\n",
            "B 10\n",
            "inner loop\n",
            "B 20\n",
            "inner loop\n",
            "B 30\n",
            "outerloop\n",
            "inner loop\n",
            "l 10\n",
            "inner loop\n",
            "l 20\n",
            "inner loop\n",
            "l 30\n",
            "outerloop\n",
            "inner loop\n",
            "r 10\n",
            "inner loop\n",
            "r 20\n",
            "inner loop\n",
            "r 30\n"
          ]
        }
      ]
    },
    {
      "cell_type": "code",
      "source": [
        "# Nested loop\n",
        "\n",
        "for i in 'Blr':\n",
        " print(\"outerloop\")\n",
        " for j in 'abc':\n",
        "  print(\"inner loop\")\n",
        "  print(i,j)"
      ],
      "metadata": {
        "colab": {
          "base_uri": "https://localhost:8080/"
        },
        "id": "Pq2tSoUEz3wJ",
        "outputId": "e32b87e9-a50d-4af2-ffcb-8a8dc4155ffa"
      },
      "execution_count": null,
      "outputs": [
        {
          "output_type": "stream",
          "name": "stdout",
          "text": [
            "outerloop\n",
            "inner loop\n",
            "B a\n",
            "inner loop\n",
            "B b\n",
            "inner loop\n",
            "B c\n",
            "outerloop\n",
            "inner loop\n",
            "l a\n",
            "inner loop\n",
            "l b\n",
            "inner loop\n",
            "l c\n",
            "outerloop\n",
            "inner loop\n",
            "r a\n",
            "inner loop\n",
            "r b\n",
            "inner loop\n",
            "r c\n"
          ]
        }
      ]
    },
    {
      "cell_type": "code",
      "source": [
        " #finding vowels in string\n",
        "\n",
        " v =['a','e','i','o','u']\n",
        "\n",
        " st = 'banglore'\n",
        " counter =0\n",
        "\n",
        " for i in 'banglore':\n",
        "    if i in v:\n",
        "     counter = counter +1\n",
        "\n",
        "print(counter)\n"
      ],
      "metadata": {
        "colab": {
          "base_uri": "https://localhost:8080/"
        },
        "id": "UElb3JHL05xX",
        "outputId": "b005ad7b-44d5-4eb7-908f-d3c7e190c0d1"
      },
      "execution_count": null,
      "outputs": [
        {
          "output_type": "stream",
          "name": "stdout",
          "text": [
            "3\n"
          ]
        }
      ]
    },
    {
      "cell_type": "code",
      "source": [
        "# Revrse string using slicing\n",
        "\n",
        "str ='Nbt'\n",
        "\n",
        "for i in str:\n",
        "  print (str[::-1])"
      ],
      "metadata": {
        "colab": {
          "base_uri": "https://localhost:8080/"
        },
        "id": "abbubUZu2TxB",
        "outputId": "b91c983a-7932-4272-d010-9b9b77d369e3"
      },
      "execution_count": null,
      "outputs": [
        {
          "output_type": "stream",
          "name": "stdout",
          "text": [
            "tbN\n",
            "tbN\n",
            "tbN\n"
          ]
        }
      ]
    },
    {
      "cell_type": "code",
      "source": [
        "#plaindrone String\n",
        "\n",
        "str = input(\"Enter a String : \")\n",
        "rev =str[::-1]\n",
        "\n",
        "if str == rev:\n",
        "  print(\"String is plaindrone\")\n",
        "else:\n",
        "  print(\"String is not plaindrone\")\n"
      ],
      "metadata": {
        "colab": {
          "base_uri": "https://localhost:8080/"
        },
        "id": "ilxbN37O5hpv",
        "outputId": "1baae37d-67ef-481d-9c4d-36a373057ea0"
      },
      "execution_count": null,
      "outputs": [
        {
          "output_type": "stream",
          "name": "stdout",
          "text": [
            "Enter a String : apple\n",
            "String is not plaindrone\n"
          ]
        }
      ]
    },
    {
      "cell_type": "code",
      "source": [
        "for i in 'banglore':\n",
        "  print(i)\n",
        "  if i == 'g' :\n",
        "    break\n"
      ],
      "metadata": {
        "colab": {
          "base_uri": "https://localhost:8080/"
        },
        "id": "8IdMsUQE6B2_",
        "outputId": "42fc1b1a-5b93-4a5e-958b-7f020996bc47"
      },
      "execution_count": null,
      "outputs": [
        {
          "output_type": "stream",
          "name": "stdout",
          "text": [
            "b\n",
            "a\n",
            "n\n",
            "g\n"
          ]
        }
      ]
    },
    {
      "cell_type": "code",
      "source": [
        "# concatenation and multiplication of string\n",
        "\n",
        "str1 = ' Apple'\n",
        "str2 = ' banana'\n",
        "print(str1+str2)\n",
        "print(str1*3)"
      ],
      "metadata": {
        "colab": {
          "base_uri": "https://localhost:8080/"
        },
        "id": "T1-WEp5g7PIw",
        "outputId": "24a1ed38-dff3-4f14-c391-0db226cba971"
      },
      "execution_count": null,
      "outputs": [
        {
          "output_type": "stream",
          "name": "stdout",
          "text": [
            " Apple banana\n",
            " Apple Apple Apple\n"
          ]
        }
      ]
    },
    {
      "cell_type": "code",
      "source": [
        "# String is imutable\n",
        "\n",
        "s1 = 'apple'\n",
        "del s1\n",
        "print(s1)"
      ],
      "metadata": {
        "collapsed": true,
        "colab": {
          "base_uri": "https://localhost:8080/",
          "height": 176
        },
        "id": "alRCJgry9yIo",
        "outputId": "1ce83292-306f-4928-c581-f21c2ae95a69"
      },
      "execution_count": null,
      "outputs": [
        {
          "output_type": "error",
          "ename": "NameError",
          "evalue": "name 's1' is not defined",
          "traceback": [
            "\u001b[0;31m---------------------------------------------------------------------------\u001b[0m",
            "\u001b[0;31mNameError\u001b[0m                                 Traceback (most recent call last)",
            "\u001b[0;32m<ipython-input-77-ca6aac3a408d>\u001b[0m in \u001b[0;36m<cell line: 0>\u001b[0;34m()\u001b[0m\n\u001b[1;32m      3\u001b[0m \u001b[0ms1\u001b[0m \u001b[0;34m=\u001b[0m \u001b[0;34m'apple'\u001b[0m\u001b[0;34m\u001b[0m\u001b[0;34m\u001b[0m\u001b[0m\n\u001b[1;32m      4\u001b[0m \u001b[0;32mdel\u001b[0m \u001b[0ms1\u001b[0m\u001b[0;34m\u001b[0m\u001b[0;34m\u001b[0m\u001b[0m\n\u001b[0;32m----> 5\u001b[0;31m \u001b[0mprint\u001b[0m\u001b[0;34m(\u001b[0m\u001b[0ms1\u001b[0m\u001b[0;34m)\u001b[0m\u001b[0;34m\u001b[0m\u001b[0;34m\u001b[0m\u001b[0m\n\u001b[0m",
            "\u001b[0;31mNameError\u001b[0m: name 's1' is not defined"
          ]
        }
      ]
    },
    {
      "cell_type": "code",
      "source": [
        "str = input('Enter a string : ')\n",
        "counter = 0\n",
        "print(len(str))\n",
        "\n",
        "for char in str:\n",
        "  print(char)\n",
        "  counter = counter+1\n",
        "\n",
        "print('length of str is : ', counter)"
      ],
      "metadata": {
        "id": "qzMDhAHd-c43",
        "outputId": "e8962a39-e6b9-4e5b-9623-230dffcc3ba7",
        "colab": {
          "base_uri": "https://localhost:8080/"
        }
      },
      "execution_count": null,
      "outputs": [
        {
          "output_type": "stream",
          "name": "stdout",
          "text": [
            "Enter a string : Naming\n",
            "6\n",
            "N\n",
            "a\n",
            "m\n",
            "i\n",
            "n\n",
            "g\n",
            "length of str is :  6\n"
          ]
        }
      ]
    },
    {
      "cell_type": "code",
      "source": [
        "# count method\n",
        "\n",
        "s1= 'My name is khan khan'\n",
        "c = s1.count('khan',0,20)\n",
        "print (c)"
      ],
      "metadata": {
        "id": "NZ5xWJL6AIEX",
        "outputId": "3c107df1-b52e-4cc3-e139-98ef4637a7c6",
        "colab": {
          "base_uri": "https://localhost:8080/"
        }
      },
      "execution_count": null,
      "outputs": [
        {
          "output_type": "stream",
          "name": "stdout",
          "text": [
            "2\n"
          ]
        }
      ]
    },
    {
      "cell_type": "code",
      "source": [
        "#  String startwith()\n",
        "\n",
        "mainstring = input('enter the main string ')\n",
        "substring= input('enter a string ')\n",
        "\n",
        "if(mainstring.startswith(substring)):\n",
        "  print('substring is present')\n",
        "else:\n",
        "  print('substring is not present')"
      ],
      "metadata": {
        "id": "Vw6uoOUZBES_",
        "outputId": "9323c152-1628-4d2a-d852-8eb6357b43d1",
        "colab": {
          "base_uri": "https://localhost:8080/"
        }
      },
      "execution_count": null,
      "outputs": [
        {
          "output_type": "stream",
          "name": "stdout",
          "text": [
            "enter the main string Hello India\n",
            "enter a string l\n",
            "substring is not present\n"
          ]
        }
      ]
    },
    {
      "cell_type": "code",
      "source": [
        "str=input(\"Enter a number: \")\n",
        "if str.startswith(\"92\"):\n",
        "  print(\"Pak\")\n",
        "elif str.startswith(\"91\"):\n",
        "  print(\"India\")\n",
        "elif str.startswith(\"1\"):\n",
        "  print(\"USA\")\n",
        "elif str.startswith(\"3\"):\n",
        "  print(\"uk\")\n",
        "else:\n",
        "  print(\"Number is invalid\")"
      ],
      "metadata": {
        "id": "kwH6pv0FCi4X",
        "outputId": "76dc95a8-8ca7-44d3-a596-42a2307f324c",
        "colab": {
          "base_uri": "https://localhost:8080/"
        }
      },
      "execution_count": null,
      "outputs": [
        {
          "output_type": "stream",
          "name": "stdout",
          "text": [
            "Enter a number: 1 234567898\n",
            "USA\n"
          ]
        }
      ]
    },
    {
      "cell_type": "code",
      "source": [
        "###  lStrip function\n",
        "\n",
        "url=[\"http://www.myntra.com\",\"http://www.gmail.com\",\"http://www.hula.com\"]\n",
        "\n",
        "for i in url:\n",
        "  i=i.lstrip(\"http://\")\n",
        "  print(i)"
      ],
      "metadata": {
        "colab": {
          "base_uri": "https://localhost:8080/"
        },
        "id": "dAjY3zAnEawQ",
        "outputId": "8296e4ea-47fe-4022-8107-9e10ee5395b2"
      },
      "execution_count": 4,
      "outputs": [
        {
          "output_type": "stream",
          "name": "stdout",
          "text": [
            "ttp://www.myntra.com\n",
            "ttp://www.gmail.com\n",
            "ttp://www.hula.com\n"
          ]
        }
      ]
    },
    {
      "cell_type": "code",
      "source": [],
      "metadata": {
        "id": "d7RSpW6hF4aH"
      },
      "execution_count": null,
      "outputs": []
    },
    {
      "cell_type": "code",
      "source": [
        "###  Strip function is combination of lstrip or rstrip\n",
        "\n",
        "url=[\"http://www.myntra.com\",\"http://www.gmail.com\",\"http://www.hula.com\"]\n",
        "\n",
        "for i in url:\n",
        "  i=i.strip(\"http://:tomc:a\")\n",
        "  print(i)"
      ],
      "metadata": {
        "colab": {
          "base_uri": "https://localhost:8080/"
        },
        "outputId": "8aa87e83-8f23-4b43-9229-da922f164acc",
        "id": "dccEgnYIF-R6"
      },
      "execution_count": 16,
      "outputs": [
        {
          "output_type": "stream",
          "name": "stdout",
          "text": [
            "www.myntra.\n",
            "www.gmail.\n",
            "www.hula.\n"
          ]
        }
      ]
    },
    {
      "cell_type": "code",
      "source": [],
      "metadata": {
        "id": "Ryos34ieGR1d"
      },
      "execution_count": null,
      "outputs": []
    },
    {
      "cell_type": "code",
      "source": [
        "###  RStrip function\n",
        "\n",
        "url=[\"http://www.myntra.com\",\"http://www.gmail.com\",\"http://www.hula.com\"]\n",
        "\n",
        "for i in url:\n",
        "  i=i.rstrip(\".com\")\n",
        "  print(i)"
      ],
      "metadata": {
        "colab": {
          "base_uri": "https://localhost:8080/"
        },
        "outputId": "c7d795f5-7213-466b-c22b-e240f0735a4c",
        "id": "tORM8wa0GTK-"
      },
      "execution_count": 35,
      "outputs": [
        {
          "output_type": "stream",
          "name": "stdout",
          "text": [
            "http://www.myntra\n",
            "http://www.gmail\n",
            "http://www.hula\n"
          ]
        }
      ]
    },
    {
      "cell_type": "code",
      "source": [
        "s='I live in banglore'\n",
        "print(s.replace('banglore','patna'))"
      ],
      "metadata": {
        "colab": {
          "base_uri": "https://localhost:8080/"
        },
        "id": "mKqXrbr9Hqdd",
        "outputId": "ed04edb8-9de1-44b9-f83a-c2b5aea7d835"
      },
      "execution_count": 22,
      "outputs": [
        {
          "output_type": "stream",
          "name": "stdout",
          "text": [
            "I live in patna\n"
          ]
        }
      ]
    },
    {
      "cell_type": "code",
      "source": [
        "#  SPLIT\n",
        "\n",
        "s='I live in banglore'\n",
        "s1 ='I_live_in_banglore'\n",
        "print(s.split('b',3))\n",
        "print(s1.split('_'))\n",
        "print(s1.split('l',2))"
      ],
      "metadata": {
        "colab": {
          "base_uri": "https://localhost:8080/"
        },
        "id": "RI6E2-3uIFU8",
        "outputId": "32bedeb3-3eba-47d9-da87-5ba0f3f9bbad"
      },
      "execution_count": 34,
      "outputs": [
        {
          "output_type": "stream",
          "name": "stdout",
          "text": [
            "['I live in ', 'anglore']\n",
            "['I', 'live', 'in', 'banglore']\n",
            "['I_', 'ive_in_bang', 'ore']\n"
          ]
        }
      ]
    },
    {
      "cell_type": "code",
      "source": [
        "from re import X\n",
        "###  list , tuple, dict , set\n",
        "\n",
        "#swap\n",
        "x=5\n",
        "y=10\n",
        "x,y= y,x\n",
        "\n",
        "print(x,y)"
      ],
      "metadata": {
        "colab": {
          "base_uri": "https://localhost:8080/"
        },
        "id": "Ud-yZtkgKD20",
        "outputId": "a59beb7d-b294-4672-bc89-e4e9ba9dd96d"
      },
      "execution_count": 40,
      "outputs": [
        {
          "output_type": "stream",
          "name": "stdout",
          "text": [
            "10 5\n"
          ]
        }
      ]
    },
    {
      "cell_type": "code",
      "source": [
        "# LIST  --- it store different datatype ----its dynamic array\n",
        "\n",
        "\n",
        "\n"
      ],
      "metadata": {
        "id": "OwZ1QfJNNZUN"
      },
      "execution_count": null,
      "outputs": []
    }
  ]
}