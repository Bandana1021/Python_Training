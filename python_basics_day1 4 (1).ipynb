{
  "nbformat": 4,
  "nbformat_minor": 0,
  "metadata": {
    "colab": {
      "provenance": []
    },
    "kernelspec": {
      "name": "python3",
      "display_name": "Python 3"
    },
    "language_info": {
      "name": "python"
    }
  },
  "cells": [
    {
      "cell_type": "code",
      "execution_count": null,
      "metadata": {
        "colab": {
          "base_uri": "https://localhost:8080/"
        },
        "id": "fooBKl8FmcO4",
        "outputId": "4251f7fe-e150-4620-f61c-0777e1d11226"
      },
      "outputs": [
        {
          "output_type": "stream",
          "name": "stdout",
          "text": [
            "welcome to Python world\n"
          ]
        }
      ],
      "source": [
        "print(\"welcome to Python world\")"
      ]
    },
    {
      "cell_type": "code",
      "source": [
        "name = str(12345)\n",
        "reverseString = name[::-1]\n",
        "print(reverseString)"
      ],
      "metadata": {
        "colab": {
          "base_uri": "https://localhost:8080/"
        },
        "id": "XGEY-oD4utm0",
        "outputId": "0a4280c9-019d-4f3c-e8f0-c6f8e8d26cc7"
      },
      "execution_count": null,
      "outputs": [
        {
          "output_type": "stream",
          "name": "stdout",
          "text": [
            "54321\n"
          ]
        }
      ]
    },
    {
      "cell_type": "code",
      "source": [
        "#dynamic programming\n",
        "\n",
        "a=10\n",
        "print(a)\n",
        "print(id(a))\n",
        "\n",
        "a=3.14\n",
        "print(a)\n",
        "print(id(a))"
      ],
      "metadata": {
        "colab": {
          "base_uri": "https://localhost:8080/"
        },
        "id": "7mQa0pLtx_2f",
        "outputId": "e0e0089a-3845-4d42-9c21-6d2c1b9fc1b4"
      },
      "execution_count": null,
      "outputs": [
        {
          "output_type": "stream",
          "name": "stdout",
          "text": [
            "10\n",
            "10751144\n",
            "3.14\n",
            "133729443515088\n"
          ]
        }
      ]
    },
    {
      "cell_type": "code",
      "source": [
        "\n",
        "# create multiple variable\n",
        "a,b,c = 10,20,\"ntt\"\n",
        "\n",
        "print (a,b,c)"
      ],
      "metadata": {
        "colab": {
          "base_uri": "https://localhost:8080/"
        },
        "id": "iE5I0qzL0nJz",
        "outputId": "e484ea40-8079-43af-efb4-880d6c842487"
      },
      "execution_count": null,
      "outputs": [
        {
          "output_type": "stream",
          "name": "stdout",
          "text": [
            "10 20 ntt\n"
          ]
        }
      ]
    },
    {
      "cell_type": "code",
      "source": [
        "# assign single values to multiple variable\n",
        "a=b=c=10\n",
        "\n",
        "print(a,b,c)"
      ],
      "metadata": {
        "colab": {
          "base_uri": "https://localhost:8080/"
        },
        "id": "X1OJHP1Z07aT",
        "outputId": "3cbba96c-4088-4ffd-e42c-be083c7526d3"
      },
      "execution_count": null,
      "outputs": [
        {
          "output_type": "stream",
          "name": "stdout",
          "text": [
            "10 10 10\n"
          ]
        }
      ]
    },
    {
      "cell_type": "code",
      "source": [
        "# variable annotation\n",
        "a:int=10\n",
        "\n",
        "print(a)\n",
        "print(id(a))\n",
        "print(__annotations__['a'])\n",
        "\n",
        "b:float = 3.14\n",
        "\n",
        "print(b)\n",
        "print(id(b))\n",
        "print(__annotations__['b'])\n",
        "\n",
        "c:str = \"ntt\"\n",
        "print(c)\n",
        "print(id(c))\n",
        "print(__annotations__['c'])"
      ],
      "metadata": {
        "colab": {
          "base_uri": "https://localhost:8080/"
        },
        "id": "Ko-kx6Jh1Vbj",
        "outputId": "4380b675-29bf-4744-f166-57e473ab7aa0"
      },
      "execution_count": null,
      "outputs": [
        {
          "output_type": "stream",
          "name": "stdout",
          "text": [
            "10\n",
            "10751144\n",
            "<class 'int'>\n",
            "3.14\n",
            "133729441443152\n",
            "<class 'float'>\n",
            "ntt\n",
            "133729249892592\n",
            "<class 'str'>\n"
          ]
        }
      ]
    },
    {
      "cell_type": "code",
      "source": [
        "# show all keyword list\n",
        "\n",
        "import keyword\n",
        "\n",
        "print(keyword.kwlist)\n",
        "print(len(keyword.kwlist))"
      ],
      "metadata": {
        "colab": {
          "base_uri": "https://localhost:8080/"
        },
        "id": "4GO4Hhgx25R1",
        "outputId": "9508ebbf-9ee9-489b-91a4-a60f3532078f"
      },
      "execution_count": null,
      "outputs": [
        {
          "output_type": "stream",
          "name": "stdout",
          "text": [
            "['False', 'None', 'True', 'and', 'as', 'assert', 'async', 'await', 'break', 'class', 'continue', 'def', 'del', 'elif', 'else', 'except', 'finally', 'for', 'from', 'global', 'if', 'import', 'in', 'is', 'lambda', 'nonlocal', 'not', 'or', 'pass', 'raise', 'return', 'try', 'while', 'with', 'yield']\n",
            "35\n"
          ]
        }
      ]
    },
    {
      "cell_type": "code",
      "source": [
        "\"\"\" multi line command\n",
        "kjgfkj\n",
        "kmfndgklfdjg\n",
        "mfngfkgnj  \"\"\"\n",
        "\n",
        "print(\"multiline command\")"
      ],
      "metadata": {
        "colab": {
          "base_uri": "https://localhost:8080/"
        },
        "id": "Nf3slBg534Kr",
        "outputId": "f99d2c01-1efb-4514-d34a-d367dce8fad0"
      },
      "execution_count": null,
      "outputs": [
        {
          "output_type": "stream",
          "name": "stdout",
          "text": [
            "multiline command\n"
          ]
        }
      ]
    },
    {
      "cell_type": "code",
      "source": [
        "\"\"\"\n",
        "\n",
        "numeric type ; int,float,complex\n",
        "sequence type - str,list,tuple\n",
        "mapping type - dict\n",
        "set type - set,frozenset\n",
        "boolean type - bool\n",
        "binary type - bytes,bytearray,memoryview\n",
        "\n",
        "\"\"\"\n",
        "\n"
      ],
      "metadata": {
        "id": "YQk-yxtt4YFE"
      },
      "execution_count": null,
      "outputs": []
    },
    {
      "cell_type": "code",
      "source": [
        "\"\"\"python doesnt have array datatype\n",
        "due tokenize\n",
        "insert Operation\n",
        "delete Operation\n",
        "storage operation\n",
        "instead of that we use str,list,tuple\"\"\""
      ],
      "metadata": {
        "id": "gzNQEGaM8Uec"
      },
      "execution_count": null,
      "outputs": []
    },
    {
      "cell_type": "code",
      "source": [
        "#String....Python has positive indexing and negative indexing\n",
        "\n",
        "a =\"NTT DATA\"\n",
        "\n",
        "print(a[-8])\n",
        "print(a[0])"
      ],
      "metadata": {
        "colab": {
          "base_uri": "https://localhost:8080/"
        },
        "id": "5CjIul079Zwb",
        "outputId": "01f6681c-d005-4cf9-dee7-bf341c17db3f"
      },
      "execution_count": null,
      "outputs": [
        {
          "output_type": "stream",
          "name": "stdout",
          "text": [
            "N\n",
            "N\n"
          ]
        }
      ]
    },
    {
      "cell_type": "code",
      "source": [
        "\"\"\" Accessing substring in string\n",
        "\n",
        "two ways:\n",
        "  1) indexing\n",
        "  2) slicing  -- slicing operator [:]\n",
        "       syntax\n",
        "           var_name[start:stop:step]   (stop-step)\n",
        "\"\"\"\n",
        "\n",
        "s = \"Texas\"\n",
        "print(s[0:5:2])\n",
        "\n",
        "Text = \"code yug\"\n",
        "print(Text[0:3:1])\n",
        "\n",
        "print(Text[0:7:2])\n",
        "#           7-1  2-1\n",
        "print(Text[0::1])  #default start and step value is zero\n",
        "\n",
        "print(Text[::])  # default step value is 1\n",
        "\n",
        "print(Text[0:4:1])  # step parameter can not be zero\n",
        "print(Text[0:0:1])  # does not print"
      ],
      "metadata": {
        "colab": {
          "base_uri": "https://localhost:8080/"
        },
        "id": "fEUAr_qiBcX2",
        "outputId": "61fc4f82-508b-4cfb-e30b-4e4bd3683db4"
      },
      "execution_count": null,
      "outputs": [
        {
          "output_type": "stream",
          "name": "stdout",
          "text": [
            "Txs\n",
            "cod\n",
            "cd u\n",
            "code yug\n",
            "code yug\n",
            "code\n",
            "\n"
          ]
        }
      ]
    },
    {
      "cell_type": "code",
      "source": [
        "# negative slicing\n",
        "\n",
        "city = \"banglore\"\n",
        "\n",
        "print(city[-1:-4:-1])  #s[-1:-4+3 : -1+1]\n",
        "print(city[-1:-5:-2])\n",
        "print(city[-2:-6:2])  #print nothing\n",
        "# third step parameter decide it is positive or negative slicing\n",
        "print(city[-1::-1])\n"
      ],
      "metadata": {
        "colab": {
          "base_uri": "https://localhost:8080/"
        },
        "id": "OjYjH2pBIPMq",
        "outputId": "e3340aaf-4d85-4776-ea42-d2dbf93e968f"
      },
      "execution_count": null,
      "outputs": [
        {
          "output_type": "stream",
          "name": "stdout",
          "text": [
            "ero\n",
            "eo\n",
            "\n",
            "erolgnab\n"
          ]
        }
      ]
    },
    {
      "cell_type": "code",
      "source": [
        "string= 'python is fun'\n",
        "print(string[0:6:2])\n",
        "print(string[4])\n",
        "print(string[::])\n",
        "print(string[:5:])\n",
        "print(string[::3])\n",
        "print(string[-1:-7:-2]) #ufs\n",
        "print(string[-2:-6:2]) #"
      ],
      "metadata": {
        "id": "JTWEc8LKeCsS",
        "outputId": "b213a2da-2194-45c7-c6fd-952b6adb7b89",
        "colab": {
          "base_uri": "https://localhost:8080/"
        }
      },
      "execution_count": 15,
      "outputs": [
        {
          "output_type": "stream",
          "name": "stdout",
          "text": [
            "pto\n",
            "o\n",
            "python is fun\n",
            "pytho\n",
            "ph  n\n",
            "nfs\n",
            "\n"
          ]
        }
      ]
    },
    {
      "cell_type": "code",
      "source": [
        "#            IF STATEMENT  inside it we can use while and for loop"
      ],
      "metadata": {
        "id": "VQyAP0Bgh--w"
      },
      "execution_count": null,
      "outputs": []
    },
    {
      "cell_type": "code",
      "source": [
        "if 4>2:\n",
        " print('true')\n",
        "elif 3==3:\n",
        "  print('good')\n",
        "else:\n",
        " print('nice')\n",
        " print('nice')"
      ],
      "metadata": {
        "id": "h4DlKR8ylBtZ",
        "outputId": "e01b6f6c-b676-49b3-d335-8848f333abfc",
        "colab": {
          "base_uri": "https://localhost:8080/"
        }
      },
      "execution_count": 31,
      "outputs": [
        {
          "output_type": "stream",
          "name": "stdout",
          "text": [
            "true\n"
          ]
        }
      ]
    }
  ]
}