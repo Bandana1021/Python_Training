{
  "nbformat": 4,
  "nbformat_minor": 0,
  "metadata": {
    "colab": {
      "provenance": [],
      "include_colab_link": true
    },
    "kernelspec": {
      "name": "python3",
      "display_name": "Python 3"
    },
    "language_info": {
      "name": "python"
    }
  },
  "cells": [
    {
      "cell_type": "markdown",
      "metadata": {
        "id": "view-in-github",
        "colab_type": "text"
      },
      "source": [
        "<a href=\"https://colab.research.google.com/github/Bandana1021/Python_Training/blob/main/python_basics_day1_4.ipynb\" target=\"_parent\"><img src=\"https://colab.research.google.com/assets/colab-badge.svg\" alt=\"Open In Colab\"/></a>"
      ]
    },
    {
      "cell_type": "code",
      "execution_count": null,
      "metadata": {
        "colab": {
          "base_uri": "https://localhost:8080/"
        },
        "id": "fooBKl8FmcO4",
        "outputId": "5fdd8997-2d2d-4be7-de59-375d7ff50163"
      },
      "outputs": [
        {
          "output_type": "stream",
          "name": "stdout",
          "text": [
            "welcome to Python world\n"
          ]
        }
      ],
      "source": [
        "print(\"welcome to Python world\")"
      ]
    },
    {
      "cell_type": "code",
      "source": [
        "a = 10\n",
        "print (a)\n",
        "print(\"address of a \" , id(a)) # memory allocation of a\n",
        "\n",
        "b = 10\n",
        "print(b)\n",
        "print(\"address of b\" , id(b))\n",
        "\n",
        "c=a\n",
        "print(c)\n",
        "print(\"address of c\", id(c))"
      ],
      "metadata": {
        "colab": {
          "base_uri": "https://localhost:8080/"
        },
        "id": "CNOEtWGv8ROS",
        "outputId": "393598a3-cbd6-4cc7-942b-75a14952b1ec"
      },
      "execution_count": null,
      "outputs": [
        {
          "output_type": "stream",
          "name": "stdout",
          "text": [
            "10\n",
            "address of a  10751144\n",
            "10\n",
            "address of b 10751144\n",
            "10\n",
            "address of c 10751144\n"
          ]
        }
      ]
    }
  ]
}